{
  "nbformat": 4,
  "nbformat_minor": 0,
  "metadata": {
    "accelerator": "GPU",
    "colab": {
      "name": "PA1_DeepLearning_Question_Finalized.ipynb",
      "provenance": [],
      "collapsed_sections": []
    },
    "kernelspec": {
      "display_name": "Python 3",
      "language": "python",
      "name": "python3"
    },
    "language_info": {
      "codemirror_mode": {
        "name": "ipython",
        "version": 3
      },
      "file_extension": ".py",
      "mimetype": "text/x-python",
      "name": "python",
      "nbconvert_exporter": "python",
      "pygments_lexer": "ipython3",
      "version": "3.6.10"
    }
  },
  "cells": [
    {
      "cell_type": "markdown",
      "metadata": {
        "id": "MsSLPZgRqAqa"
      },
      "source": [
        "# Programming Assignment 01 [50 marks]\n",
        "\n",
        "\n",
        "This assignment will introduce you to:\n",
        "1. Building and training a convolutional network\n",
        "2. Saving snapshots of your trained model\n",
        "3. Reloading weights from a saved model\n",
        "4. Fine-tuning a pre-trained network\n",
        "5. Visualizations using TensorBoardLogger\n",
        "\n",
        "This code has been tested and should run for Python 3.7.10 with pytorch 1.7.0 and pytorch_lightning 1.2.0 in Google colab. The advantage of colab is that you can use GPUs for small codes that does not need very long runtime."
      ]
    },
    {
      "cell_type": "markdown",
      "source": [
        "Details: (double-click here to fill)\n",
        "\n",
        "Name: `<write your name here>`\n",
        "\n",
        "Roll Number: `<write your roll number here>`"
      ],
      "metadata": {
        "id": "GuQNI7Tty7NB"
      }
    },
    {
      "cell_type": "markdown",
      "source": [
        "Make sure to go through all the comments and texts in this notebook, as they contain specific instructions to complete the assignment. You would need to submit a single `.ipynb` file. Write your codes only between the START and END markers. All the required outputs must be embedded in the notebook itself. Feel free to reach out to the TAs through Piazza if you have any doubts. Happy coding (and learning)!"
      ],
      "metadata": {
        "id": "bH2Sw-pyylSq"
      }
    },
    {
      "cell_type": "markdown",
      "metadata": {
        "id": "y9xqVc0JpFuL"
      },
      "source": [
        "## Part 0: Tutorials\n",
        "\n",
        "You will find these tutorials on pytorch and pytorch_lightning useful:\n",
        " - [Pytorch Tutorials](https://pytorch.org/tutorials/) - \"Learn the Basics\" is very good starter\n",
        " - [Pytorch-lightning masterclass](https://www.youtube.com/playlist?list=PLaMu-SDt_RB5NUm67hU2pdE75j6KaIOv2) - around 140 minutes of videos\n",
        " - [deep-learning-project-template](https://github.com/PyTorchLightning/deep-learning-project-template/blob/master/project/lit_image_classifier.py) - You will find this project template from the official pytorch-lightning repo very useful. We have, mostly, tried to follow this template for this assignment."
      ]
    },
    {
      "cell_type": "markdown",
      "metadata": {
        "id": "0qiqk0fXSeON"
      },
      "source": [
        "## Part 1: Building and training a Residual Network Model (ResNet) ⚛"
      ]
    },
    {
      "cell_type": "markdown",
      "source": [
        "First, get the data to the working folder.\n",
        "The drive links for the required data are as follows:\n",
        "\n",
        "Tiny ImageNet - https://drive.google.com/file/d/1VO2ooFlzw6VD2P5hx535V0Rlbo9C6ldc/view?usp=sharing\n",
        "\n",
        "Office-31 Amazon - https://drive.google.com/file/d/1I5GMKCH3mQ8NJypeZnuxTG7k43xdA02o/view?usp=sharing"
      ],
      "metadata": {
        "id": "8IL0ClbHipzA"
      }
    },
    {
      "cell_type": "code",
      "metadata": {
        "id": "Jd8Vdn3vy5r0"
      },
      "source": [
        "from google.colab import drive\n",
        "drive.mount('/content/drive')"
      ],
      "execution_count": null,
      "outputs": []
    },
    {
      "cell_type": "code",
      "source": [
        "# copy the data and unzip it in the working folder\n",
        "!scp /content/drive/MyDrive/Office31_Amazon.zip ./\n",
        "!scp /content/drive/MyDrive/Tiny_ImageNet_200.zip ./\n",
        "!unzip Office31_Amazon.zip\n",
        "!unzip Tiny_ImageNet_200.zip"
      ],
      "metadata": {
        "id": "-jGXLy2-uJ1O"
      },
      "execution_count": null,
      "outputs": []
    },
    {
      "cell_type": "code",
      "metadata": {
        "id": "lSGn4uKhsuJ4"
      },
      "source": [
        "# install pytorch lighting\n",
        "! pip install pytorch-lightning --quiet"
      ],
      "execution_count": null,
      "outputs": []
    },
    {
      "cell_type": "code",
      "metadata": {
        "id": "vMxW-lclsVlI"
      },
      "source": [
        "# List of imports\n",
        "from PIL import Image\n",
        "from typing import Type, Any, Callable, Union, List, Optional\n",
        "\n",
        "## PyTorch\n",
        "import torch\n",
        "from torch import Tensor\n",
        "import torch.utils.data as data\n",
        "import torch.nn as nn\n",
        "import torch.nn.functional as F\n",
        "import torch.optim as optim\n",
        "## PyTorch lightning\n",
        "import pytorch_lightning as pl\n",
        "import torchmetrics\n",
        "# Torchvision\n",
        "import torchvision\n",
        "from torchvision import transforms\n",
        "\n",
        "# import TensorBoardLogger\n",
        "from pytorch_lightning.loggers import TensorBoardLogger"
      ],
      "execution_count": null,
      "outputs": []
    },
    {
      "cell_type": "markdown",
      "source": [
        "In the following blocks of code we will design a ResNet block with `Bottleneck`. These are the building blocks for the network, and depending on the number of blocks in various layers, the models are classified as resnet50, resnet101, resnet152, etc.\n",
        "\n",
        "Let us first understand the detailed architecture of resnet:\n",
        "\n",
        "\n",
        "\n",
        "```\n",
        "ResNet(\n",
        "  (conv1)\n",
        "  (bn1)\n",
        "  (relu)\n",
        "  (maxpool)\n",
        "  (layer1) # constituted of multiple Bottleneck blocks\n",
        "  (layer2) # constituted of multiple Bottleneck blocks\n",
        "  (layer3) # constituted of multiple Bottleneck blocks\n",
        "  (layer4) # constituted of multiple Bottleneck blocks\n",
        "  (avgpool)\n",
        "  (fc)\n",
        ")\n",
        "```\n",
        "\n",
        "\n",
        "\n",
        "\n",
        "\n"
      ],
      "metadata": {
        "id": "GDdhNig_oV2n"
      }
    },
    {
      "cell_type": "markdown",
      "source": [
        "In the image below, the schematic representation of a bottleneck block is represented. The left part of the diagram shows a `Bottleneck` block without identity downsampling, while the right part includes identity downsampling, which is incorporated to match the channel dimension of the left and right paths. Although the name 'downsampling' doesn't necessarily imply reduction of spatial dimensions of the feature maps. `f` represents the number of channels in the output of that particular layer (`out_channels` aka `out_planes`). Note the `4f` in the final convolution layer in the left path of each of the figures: in ResNet, each block has an expansion parameter in order to increase the `out_channels` if needed.\n",
        "\n",
        "Suppose a given layer consists of `n` `Bottleneck` blocks, then the first block should include identity downsampling, while the rest of the `n-1` blocks should not. "
      ],
      "metadata": {
        "id": "zeQ05KA5wn5n"
      }
    },
    {
      "cell_type": "markdown",
      "source": [
        "![Bottleneck-Blocks-for-ResNet-50-left-identity-shortcut-right-projection-shortcut_W640.jpg](data:image/jpeg;base64,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)"
      ],
      "metadata": {
        "id": "9ul_meqcwg96"
      }
    },
    {
      "cell_type": "code",
      "source": [
        "# helper functions to return 3x3 and 1x1 convolution 2d layers\n",
        "def conv3x3(in_planes: int, out_planes: int, stride: int = 1, groups: int = 1, dilation: int = 1) -> nn.Conv2d:\n",
        "    \"\"\"3x3 convolution with padding\"\"\"\n",
        "    return nn.Conv2d(in_planes, out_planes, kernel_size=3, stride=stride, padding=dilation, groups=groups, bias=False, dilation=dilation)\n",
        "\n",
        "def conv1x1(in_planes: int, out_planes: int, stride: int = 1) -> nn.Conv2d:\n",
        "    \"\"\"1x1 convolution\"\"\"\n",
        "    return nn.Conv2d(in_planes, out_planes, kernel_size=1, stride=stride, bias=False)"
      ],
      "metadata": {
        "id": "h-Lp8lFgce-u"
      },
      "execution_count": null,
      "outputs": []
    },
    {
      "cell_type": "markdown",
      "source": [
        "Now, we will design the Bottleneck block in the following class, which is used to build the ResNet network in the cell following the current cell. You may have a look of that code to understand how this Bottleneck class will be used."
      ],
      "metadata": {
        "id": "L36uDPTA3AuC"
      }
    },
    {
      "cell_type": "markdown",
      "source": [
        "12 marks [6 + 6]"
      ],
      "metadata": {
        "id": "TYVdp7WE5wsY"
      }
    },
    {
      "cell_type": "code",
      "source": [
        "class Bottleneck(nn.Module):\n",
        "\n",
        "    expansion: int = 4\n",
        "\n",
        "    def __init__(\n",
        "        self,\n",
        "        inplanes: int,\n",
        "        planes: int,\n",
        "        downsample: Optional[nn.Module] = None, # Should be true only for the first block of each layer\n",
        "        stride: int = 1, # Need not change this value\n",
        "        groups: int = 1,\n",
        "        base_width: int = 64,\n",
        "        dilation: int = 1,\n",
        "    ) -> None:\n",
        "        super().__init__()\n",
        "\n",
        "        norm_layer = nn.BatchNorm2d\n",
        "        width = int(planes * (base_width / 64.0)) * groups\n",
        "\n",
        "        ###################################\n",
        "        ####   Code required (START)   ####\n",
        "        ###################################\n",
        "        # Declare all the required elemental layers here.\n",
        "        # Make sure to call the functions with the stride, groups, dilation arguments\n",
        "        # conv1 [inplanes->width], \n",
        "        # bn1 [width], \n",
        "        # conv2 [width->width], \n",
        "        # bn2 [width], \n",
        "        # conv3 [width->planes*expansion], \n",
        "        # bn3 [planes*expansion], \n",
        "        # relu activation, \n",
        "        # downsample layer \n",
        "        \n",
        "\n",
        "        ###################################\n",
        "        ####   Code required (END)   ####\n",
        "        ###################################\n",
        "\n",
        "        self.stride = stride\n",
        "\n",
        "    def forward(self, x: Tensor) -> Tensor:\n",
        "\n",
        "        ###################################\n",
        "        ####   Code required (START)   ####\n",
        "        ###################################\n",
        "        # Implement the forward pass here for the block.\n",
        "        # Given the input tensor x it should provide the block output.\n",
        "\n",
        "\n",
        "        ###################################\n",
        "        ####   Code required (END)   ####\n",
        "        ###################################"
      ],
      "metadata": {
        "id": "EuBhyAgZamDI"
      },
      "execution_count": null,
      "outputs": []
    },
    {
      "cell_type": "markdown",
      "source": [
        "8 marks [6 + 1 + 1]"
      ],
      "metadata": {
        "id": "NvNJRLjI5lec"
      }
    },
    {
      "cell_type": "code",
      "metadata": {
        "id": "NONF0DbHsVlN"
      },
      "source": [
        "class ResNet(nn.Module): # Here we build the network. Go through the code in detail to learn how it is built.\n",
        "    def __init__(\n",
        "        self,\n",
        "        block: Type[Bottleneck],\n",
        "        layers: List[int],\n",
        "        num_classes: int = 1000,\n",
        "        zero_init_residual: bool = False,\n",
        "        groups: int = 1,\n",
        "        width_per_group: int = 64):\n",
        "        super().__init__()\n",
        "        \n",
        "        norm_layer = nn.BatchNorm2d\n",
        "        self._norm_layer = norm_layer\n",
        "\n",
        "        self.inplanes = 64\n",
        "        self.dilation = 1\n",
        "        replace_stride_with_dilation = [False, False, False]\n",
        "\n",
        "        self.groups = groups\n",
        "        self.base_width = width_per_group\n",
        "        self.conv1 = nn.Conv2d(3, self.inplanes, kernel_size=7, stride=2, padding=3, bias=False)\n",
        "        self.bn1 = norm_layer(self.inplanes)\n",
        "        self.relu = nn.ReLU(inplace=True)\n",
        "        self.maxpool = nn.MaxPool2d(kernel_size=3, stride=2, padding=1)\n",
        "        self.layer1 = self._make_layer(block, 64, layers[0])\n",
        "        self.layer2 = self._make_layer(block, 128, layers[1], stride=2, dilate=replace_stride_with_dilation[0])\n",
        "        self.layer3 = self._make_layer(block, 256, layers[2], stride=2, dilate=replace_stride_with_dilation[1])\n",
        "        self.layer4 = self._make_layer(block, 512, layers[3], stride=2, dilate=replace_stride_with_dilation[2])\n",
        "        self.avgpool = nn.AdaptiveAvgPool2d((1, 1))\n",
        "        self.fc = nn.Linear(512 * block.expansion, num_classes)\n",
        "\n",
        "        # Zero-initialize the last BN in each residual branch,\n",
        "        # so that the residual branch starts with zeros, and each residual block behaves like an identity.\n",
        "        # This improves the model by 0.2~0.3% according to https://arxiv.org/abs/1706.02677\n",
        "        if zero_init_residual:\n",
        "            for m in self.modules():\n",
        "                if isinstance(m, Bottleneck):\n",
        "                    nn.init.constant_(m.bn3.weight, 0)  # type: ignore[arg-type]\n",
        "                elif isinstance(m, BasicBlock):\n",
        "                    nn.init.constant_(m.bn2.weight, 0)  # type: ignore[arg-type]\n",
        "\n",
        "    def _make_layer( # this function builds a layer\n",
        "        self,\n",
        "        block: Type[Bottleneck],\n",
        "        planes: int,\n",
        "        blocks: int,\n",
        "        stride: int = 1,\n",
        "        dilate: bool = False) -> nn.Sequential:\n",
        "        norm_layer = self._norm_layer\n",
        "        downsample = None\n",
        "        previous_dilation = self.dilation\n",
        "        if dilate:\n",
        "            self.dilation *= stride\n",
        "            stride = 1\n",
        "        if stride != 1 or self.inplanes != planes * block.expansion:\n",
        "            downsample = nn.Sequential(\n",
        "                conv1x1(self.inplanes, planes * block.expansion, stride),\n",
        "                norm_layer(planes * block.expansion),\n",
        "            )\n",
        "\n",
        "        layers = []\n",
        "        layers.append(\n",
        "            block(self.inplanes, planes, downsample, stride, self.groups, self.base_width, previous_dilation)\n",
        "        )\n",
        "        self.inplanes = planes * block.expansion\n",
        "        for _ in range(1, blocks):\n",
        "            layers.append(\n",
        "                block(self.inplanes, planes, groups=self.groups, base_width=self.base_width, dilation=self.dilation)\n",
        "            )\n",
        "\n",
        "        return nn.Sequential(*layers)\n",
        "\n",
        "    def _forward_impl(self, x: Tensor) -> Tensor:\n",
        "        ###################################\n",
        "        ####   Code required (START)   ####\n",
        "        ###################################\n",
        "        # Implement the forward pass here for the resnet network.\n",
        "\n",
        "        ###################################\n",
        "        ####   Code required (END)   ####\n",
        "        ###################################\n",
        "\n",
        "    def forward(self, x: Tensor) -> Tensor:\n",
        "        return self._forward_impl(x)\n",
        "\n",
        "\n",
        "def _resnet(\n",
        "    arch: str,\n",
        "    block: Type[Bottleneck],\n",
        "    layers: List[int],\n",
        "    pretrained: bool,\n",
        "    progress: bool,\n",
        "    **kwargs: Any) -> ResNet:\n",
        "    model = ResNet(block, layers, **kwargs)\n",
        "    if pretrained:\n",
        "        state_dict = load_state_dict_from_url(model_urls[arch], progress=progress)\n",
        "        model.load_state_dict(state_dict)\n",
        "    return model\n",
        "\n",
        "\n",
        "# the number of Bottleneck block across the layers are given for the following networks:\n",
        "# resnet50: 3 in layer1, 4 in layer2, 6 in layer3, 3 in layer4\n",
        "# resnet101: 3 in layer1, 4 in layer2, 23 in layer3, 3 in layer4\n",
        "# resnet152: 3 in layer1, 8 in layer2, 36 in layer3, 3 in layer4\n",
        "\n",
        "# the following functions design resnet50, resnet101, resnet152 and return it to us.\n",
        "# we have completed the function for resnet50.\n",
        "# you need to do it for resnet101 and resnet152.\n",
        "\n",
        "def resnet50(pretrained: bool = False, progress: bool = True, **kwargs: Any) -> ResNet:\n",
        "    r\"\"\"ResNet-50 model from\n",
        "    `\"Deep Residual Learning for Image Recognition\" <https://arxiv.org/pdf/1512.03385.pdf>`_.\n",
        "    Args:\n",
        "        pretrained (bool): If True, returns a model pre-trained on ImageNet\n",
        "        progress (bool): If True, displays a progress bar of the download to stderr\n",
        "    \"\"\"\n",
        "    return _resnet(\"resnet50\", Bottleneck, [3, 4, 6, 3], pretrained, progress, **kwargs)\n",
        "\n",
        "\n",
        "def resnet101(pretrained: bool = False, progress: bool = True, **kwargs: Any) -> ResNet:\n",
        "    r\"\"\"ResNet-101 model from\n",
        "    `\"Deep Residual Learning for Image Recognition\" <https://arxiv.org/pdf/1512.03385.pdf>`_.\n",
        "    Args:\n",
        "        pretrained (bool): If True, returns a model pre-trained on ImageNet\n",
        "        progress (bool): If True, displays a progress bar of the download to stderr\n",
        "    \"\"\"\n",
        "    ###################################\n",
        "    ####   Code required (START)   ####\n",
        "    ###################################\n",
        "\n",
        "    ###################################\n",
        "    ####   Code required (END)   ####\n",
        "    ###################################\n",
        "\n",
        "\n",
        "\n",
        "def resnet152(pretrained: bool = False, progress: bool = True, **kwargs: Any) -> ResNet:\n",
        "    r\"\"\"ResNet-152 model from\n",
        "    `\"Deep Residual Learning for Image Recognition\" <https://arxiv.org/pdf/1512.03385.pdf>`_.\n",
        "    Args:\n",
        "        pretrained (bool): If True, returns a model pre-trained on ImageNet\n",
        "        progress (bool): If True, displays a progress bar of the download to stderr\n",
        "    \"\"\"\n",
        "    ###################################\n",
        "    ####   Code required (START)   ####\n",
        "    ###################################\n",
        "\n",
        "    ###################################\n",
        "    ####   Code required (END)   ####\n",
        "    ###################################"
      ],
      "execution_count": null,
      "outputs": []
    },
    {
      "cell_type": "markdown",
      "source": [
        "10 marks [1 + 3 + 3 + 3]"
      ],
      "metadata": {
        "id": "uUZNo36t5ZgF"
      }
    },
    {
      "cell_type": "code",
      "source": [
        "class My_ResNet_Classifier(pl.LightningModule):\n",
        "    def __init__(self, backbone_name, act_fn, num_classes=200, learning_rate=1e-3):\n",
        "        '''\n",
        "        backbone_name: which resnet classifier to use - choose from \"resnet50\", \"resnet101\", \"resnet152\"\n",
        "\n",
        "        act_fn: Is a tuple whose first member is \"key\" and second one is the \"value\".\n",
        "        \"key\" has to be all lowercase and one of the three options - \"relu\", \"tanh\", \"leakyrelu\".\n",
        "        \"value\" has to be correspondingly one of the followings - nn.ReLU, nn.Tanh, nn.LeakyRelu.\n",
        "        This is required for idiosyncracies in Kaiming_normal initialization.\n",
        "        \n",
        "        num_classes: Number of classes in the dataset which equivalently is the number of output nodes\n",
        "        \n",
        "        learning_rate: The learning rate hyperparameter\n",
        "        '''\n",
        "        super().__init__()\n",
        "        # 'save_hyperparameters' saves the values of anything in the __init__ for us to the checkpoint.\n",
        "        # This is a useful feature.\n",
        "        self.save_hyperparameters()\n",
        "\n",
        "        if backbone_name == \"resnet50\":\n",
        "          self.backbone = resnet50(pretrained=False)\n",
        "        elif backbone_name == \"resnet101\":\n",
        "          self.backbone = resnet101(pretrained=False)\n",
        "        elif backbone_name == \"resnet152\":\n",
        "          self.backbone = resnet152(pretrained=False)\n",
        "        \n",
        "        self.num_classes = num_classes\n",
        "        self.act_fn = act_fn[1]\n",
        "        self.act_fn_name = act_fn[0]\n",
        "        self.accuracy = torchmetrics.Accuracy()\n",
        "    \n",
        "    # Bit of detail that you can skip. Basically these are standard practice of initialization depending on\n",
        "    # the type of conv operation and batch-normalization\n",
        "    def _init_params(self):\n",
        "        for m in self.modules():\n",
        "            if isinstance(m, nn.Conv2d):\n",
        "                nn.init.kaiming_normal_(m.weight, nonlinearity=self.act_fn_name) # self.hparams.act_fn\n",
        "            elif isinstance(m, nn.BatchNorm2d):\n",
        "                nn.init.constant_(m.weight, 1)\n",
        "                nn.init.constant_(m.bias, 0)\n",
        "    \n",
        "    def forward(self, x):\n",
        "        ###################################\n",
        "        ####   Code required (start)   ####\n",
        "        ###################################\n",
        "        # use forward for inference/predictions\n",
        "        \n",
        "        ###################################\n",
        "        ####    Code required (end)    ####\n",
        "        ###################################\n",
        "        return x\n",
        "    \n",
        "    def training_step(self, batch, batch_idx):\n",
        "        x, y = batch\n",
        "        logits = self.forward(x)\n",
        "        loss = F.cross_entropy(logits, y)\n",
        "        # Logging training loss on each training step and also on each epoch\n",
        "        self.log('train_loss', loss, on_step=True, on_epoch=True, logger=True)\n",
        "        \n",
        "        ###################################\n",
        "        ####   Code required (start)   ####\n",
        "        ###################################\n",
        "        # get the predictions, find accuracy, and log it.\n",
        "        \n",
        "        ###################################\n",
        "        ####    Code required (end)    ####\n",
        "        ###################################\n",
        "        return loss\n",
        "    \n",
        "    def validation_step(self, batch, batch_idx):\n",
        "        ###################################\n",
        "        ####   Code required (start)   ####\n",
        "        ###################################\n",
        "        # Implement the validation step here.\n",
        "        # Make sure to log the val_loss and val_acc as you did in the training step\n",
        "        \n",
        "        ###################################\n",
        "        ####    Code required (end)    ####\n",
        "        ###################################\n",
        "\n",
        "        return loss\n",
        "    \n",
        "    def test_step(self, batch, batch_idx):\n",
        "        ###################################\n",
        "        ####   Code required (start)   ####\n",
        "        ###################################\n",
        "        # Implement the test step here.\n",
        "        # Make sure to log the test_loss and test_acc.\n",
        "        # Code is very similar to that of the validation step.\n",
        "        \n",
        "        ###################################\n",
        "        ####    Code required (end)    ####\n",
        "        ###################################\n",
        "        return loss\n",
        "    \n",
        "    def configure_optimizers(self):\n",
        "        # self.hparams available because we called self.save_hyperparameters()\n",
        "        return optim.Adam(self.parameters(), lr=self.hparams.learning_rate)"
      ],
      "metadata": {
        "id": "zbdBT16FtGp9"
      },
      "execution_count": null,
      "outputs": []
    },
    {
      "cell_type": "markdown",
      "metadata": {
        "id": "s81uep0tHyLv"
      },
      "source": [
        "\n",
        "\n",
        "---\n",
        "The following cell sets up the dataset with some preliminary data augmentation, the model and the logger. We will first, train our ResNet on the [Tiny ImageNet Dataset](https://www.kaggle.com/c/tiny-imagenet).\n",
        "\n",
        "---\n",
        "\n",
        "\n"
      ]
    },
    {
      "cell_type": "code",
      "metadata": {
        "id": "sPc5aOmAsVlQ"
      },
      "source": [
        "# Setting the seed for reproducibility\n",
        "pl.seed_everything(101)\n",
        "\n",
        "# ------------\n",
        "# args\n",
        "# ------------\n",
        "# Path to the folder where the Tiny ImageNet dataset is/will be downloaded\n",
        "\n",
        "DATASET_PATH = \"/content/Tiny-ImageNet-200/\"\n",
        "# Choice of activation functions as dict\n",
        "act_fn_dict = {\n",
        "    \"tanh\": nn.Tanh,\n",
        "    \"relu\": nn.ReLU,\n",
        "    \"leaky_relu\": nn.LeakyReLU\n",
        "}\n",
        "\n",
        "# ------------\n",
        "# data\n",
        "# ------------\n",
        "\n",
        "# As we have learned in the class, it is important to have the data preprocessed with a zero mean. \n",
        "# The following values are the mean and std for tiny-imagenet:\n",
        "DATA_MEANS = [0.485, 0.456, 0.406]\n",
        "DATA_STD = [0.229, 0.224, 0.225]\n",
        "print(\"Mean of data:\", DATA_MEANS)\n",
        "print(\"Standard deviation of data:\", DATA_STD)\n",
        "\n",
        "# We will use the mean and standard deviation of the input data computed above to normalize the input.\n",
        "\n",
        "# Note that the above normalization will be applied to both test/valiadtion and traning data. The training data,\n",
        "# in addition, will need to go through a few more data augmentations. We plan to use following data augmentations.\n",
        "# 1. Random horizontal flip with 50% probability - RandomHorizontalFlip\n",
        "# 2. Crop the image to random size and aspect ratio. This crop is finally resized to given size - RandomResizedCrop\n",
        "train_transform = transforms.Compose([transforms.RandomHorizontalFlip(),\n",
        "                                      transforms.RandomResizedCrop((64,64),scale=(0.8,1.0),ratio=(0.85,1.15)),\n",
        "                                      transforms.ToTensor(),\n",
        "                                      transforms.Normalize(DATA_MEANS, DATA_STD)\n",
        "                                     ])\n",
        "\n",
        "test_transform = transforms.Compose([transforms.ToTensor(),\n",
        "                                     transforms.Normalize(DATA_MEANS, DATA_STD)\n",
        "                                     ])\n",
        "# Next we will split the training data into training and validation. You will notice that we use the same command\n",
        "# in the next two lines. This is a trick, often used to make sure that training data uses the random data augmentations\n",
        "# while validation data do not.\n",
        "\n",
        "tiny_imagenet_dataset_train = torchvision.datasets.ImageFolder(root=DATASET_PATH, transform=train_transform)\n",
        "tiny_imagenet_dataset_val_test = torchvision.datasets.ImageFolder(root=DATASET_PATH, transform=test_transform)\n",
        "# declared the same thing multiple times because of different transforms. just a hack (inefficient though)\n",
        "num_imgs = len(tiny_imagenet_dataset_train)\n",
        "print(\"Total number of images:\", num_imgs)\n",
        "\n",
        "# Let's split the dataset as: train: 65%, val: 10%, test: 25%.\n",
        "train_length = int(0.65*num_imgs)\n",
        "val_length = int(0.1*num_imgs)\n",
        "test_length = num_imgs - train_length - val_length\n",
        "\n",
        "print(train_length, val_length, test_length)\n",
        "\n",
        "train_set, _, _ = data.random_split(tiny_imagenet_dataset_train, [train_length, val_length, test_length])\n",
        "_, val_set, test_set = data.random_split(tiny_imagenet_dataset_val_test, [train_length, val_length, test_length])\n",
        "\n",
        "# Define a set of data loaders\n",
        "train_loader = data.DataLoader(train_set, batch_size=128, shuffle=True, drop_last=True, pin_memory=True, num_workers=4)\n",
        "val_loader = data.DataLoader(val_set, batch_size=128, shuffle=False, drop_last=False, num_workers=4)\n",
        "test_loader = data.DataLoader(test_set, batch_size=128, shuffle=False, drop_last=False, num_workers=4)\n",
        "\n",
        "# ------------\n",
        "# model\n",
        "# ------------\n",
        "# We will use a ResNet-50 model for this assignment. \n",
        "# You may try experimenting with ResNet-101 and ResNet-152 to find out\n",
        "# But, training these larger networks will demand more computation and memory requirements.\n",
        "# the effect of depth in the performance of a neural network.\n",
        "model = My_ResNet_Classifier(backbone_name=\"resnet50\", act_fn=(\"tanh\",act_fn_dict[\"tanh\"]), num_classes=200, learning_rate=1e-3)\n",
        "# ------------\n",
        "# logging\n",
        "# ------------\n",
        "# Initialize Tensorboard logger\n",
        "TensorBoard_Logger = TensorBoardLogger('/content/tb_logs', 'tiny-imagenet','tanh')\n",
        "\n",
        "# ------------\n",
        "# training\n",
        "# ------------\n",
        "# Initialize a trainer\n",
        "trainer = pl.Trainer(max_epochs=20,\n",
        "                    progress_bar_refresh_rate=20, \n",
        "                    gpus=1,\n",
        "                    logger=TensorBoard_Logger)"
      ],
      "execution_count": null,
      "outputs": []
    },
    {
      "cell_type": "code",
      "metadata": {
        "id": "xBNkalC0sVlT"
      },
      "source": [
        "# Train the model\n",
        "trainer.fit(model, train_loader, val_loader)\n",
        "# expect a per epoch time taken to be around 3.5 minutes (on Colab using GPU backend)"
      ],
      "execution_count": null,
      "outputs": []
    },
    {
      "cell_type": "markdown",
      "source": [
        "3 marks"
      ],
      "metadata": {
        "id": "rqa3ckbV6AfL"
      }
    },
    {
      "cell_type": "code",
      "metadata": {
        "id": "--cy_BJyB0e0"
      },
      "source": [
        "###################################\n",
        "####   Code required (start)   ####\n",
        "###################################\n",
        "# Write the code to save the checkpoint\n",
        "# corresponding to Tanh activation\n",
        "# function and show the evaluation\n",
        "# results on validation and test set\n",
        "# for the same\n",
        "\n",
        "###################################\n",
        "####    Code required (end)    ####\n",
        "###################################"
      ],
      "execution_count": null,
      "outputs": []
    },
    {
      "cell_type": "markdown",
      "metadata": {
        "id": "msFicSbR3wwZ"
      },
      "source": [
        "Training ResNet on Tiny ImageNet with different activation functions and different epochs.\n",
        "Complete the following tasks:\n",
        "1.   Train the network with 3 different activation functions - Tanh, ReLU and LeakyReLU. You will see that a python dictionary __act_fn_dict__ is already provided above for this purpose. Each should be trained for 20 epochs. You do not need to write additional code for this part. You just need to play with the setup code.\n",
        "2.   Save the three checkpoints above.\n",
        "3.   Show the evaluation results (i.e., print the validation accuracy and test accuracy) of each of the three checkpoints above.\n",
        "\n",
        "\n"
      ]
    },
    {
      "cell_type": "markdown",
      "source": [
        "3 marks"
      ],
      "metadata": {
        "id": "AuZSwe4I6FDe"
      }
    },
    {
      "cell_type": "code",
      "metadata": {
        "id": "SU_RCAoJB1v7"
      },
      "source": [
        "###################################\n",
        "####   Code required (start)   ####\n",
        "###################################\n",
        "# Train using ReLU then\n",
        "# Write the code to save the checkpoint\n",
        "# corresponding to ReLU activation\n",
        "# function and show the evaluation\n",
        "# results on validation and test set\n",
        "# for the same\n",
        "\n",
        "###################################\n",
        "####    Code required (end)    ####\n",
        "###################################"
      ],
      "execution_count": null,
      "outputs": []
    },
    {
      "cell_type": "markdown",
      "source": [
        "3 marks"
      ],
      "metadata": {
        "id": "wIZYqRbf6GgU"
      }
    },
    {
      "cell_type": "code",
      "metadata": {
        "id": "zxoIrqAAB4Y2"
      },
      "source": [
        "###################################\n",
        "####   Code required (start)   ####\n",
        "###################################\n",
        "# Train using LeakyReLU then\n",
        "# Write the code to save the checkpoint\n",
        "# corresponding to LeakyReLU activation\n",
        "# function and show the evaluation\n",
        "# results on validation and test set\n",
        "# for the same\n",
        "\n",
        "###################################\n",
        "####    Code required (end)    ####\n",
        "###################################"
      ],
      "execution_count": null,
      "outputs": []
    },
    {
      "cell_type": "markdown",
      "metadata": {
        "id": "PYHb0wZeSU8q"
      },
      "source": [
        "## Part 2: Loading a pretrained model and finetuning on Office31 dataset\n",
        "\n",
        "[Office Dataset:](https://faculty.cc.gatech.edu/~judy/domainadapt/#datasets_code)\n",
        "Contains 3 domains Amazon, Webcam, and Dslr. Each contain images from amazon.com, or office environment images taken with varying lighting and pose changes using a webcam or a dslr camera, respectively. Contains 31 categories in each domain. We will just use the Amazon domain for our assignment."
      ]
    },
    {
      "cell_type": "markdown",
      "source": [
        "1 mark"
      ],
      "metadata": {
        "id": "f5EFqQLQ6LMT"
      }
    },
    {
      "cell_type": "code",
      "metadata": {
        "id": "bXNEmOxJTEu0"
      },
      "source": [
        "# Load the checkpoint which gave the best validation accuracy of the three models you trained above.\n",
        "# This will be our pretrained model to start with\n",
        "###################################\n",
        "####   Code required (start)   ####\n",
        "###################################\n",
        "# Load checkpoint with best validation accuracy\n",
        "\n",
        "###################################\n",
        "####    Code required (end)    ####\n",
        "###################################"
      ],
      "execution_count": null,
      "outputs": []
    },
    {
      "cell_type": "markdown",
      "source": [
        "3 marks"
      ],
      "metadata": {
        "id": "N3UxykDK6OMP"
      }
    },
    {
      "cell_type": "code",
      "metadata": {
        "id": "OYmpZDxQAgra"
      },
      "source": [
        "# In this cell we will freeze the initial layers of the resnet50 network\n",
        "# Just keep the layer4 and the fc layer trainable\n",
        "# Make sure to change the output dimension of the fc layer from 200 to 31 as Office31 now has 31 categories to classify (Important!)\n",
        "###################################\n",
        "####   Code required (start)   ####\n",
        "###################################\n",
        "# freeze params\n",
        "\n",
        "###################################\n",
        "####    Code required (end)    ####\n",
        "###################################"
      ],
      "execution_count": null,
      "outputs": []
    },
    {
      "cell_type": "markdown",
      "source": [
        "3 marks"
      ],
      "metadata": {
        "id": "MQiKzL1L6U4Y"
      }
    },
    {
      "cell_type": "code",
      "metadata": {
        "id": "jAGTHa-fD_WU"
      },
      "source": [
        "# ------------\n",
        "# Office-31 dataset preparation\n",
        "# ------------\n",
        "# Path to the folder where the Office31 dataset is/will be downloaded\n",
        "DATASET_PATH = \"/content/Office31_Amazon\"\n",
        "\n",
        "DATA_MEANS = [0.485, 0.456, 0.406]\n",
        "DATA_STD = [0.229, 0.224, 0.225]\n",
        "print(\"Mean of data:\", DATA_MEANS)\n",
        "print(\"Standard deviation of data:\", DATA_STD)\n",
        "\n",
        "\n",
        "###################################\n",
        "####   Code required (start)   ####\n",
        "###################################\n",
        "# In a same way as we did for tiny-imagenet above, for Office-31\n",
        "# Define the train and test transforms - keep them same as tiny-imagenet as above\n",
        "# Define the datasets using ImageFolder\n",
        "# Split the dataset into train, val, and test in ratio 70%, 10%, 20%\n",
        "# Define the dataloaders\n",
        "\n",
        "\n",
        "###################################\n",
        "####   Code required (end)   ####\n",
        "###################################"
      ],
      "execution_count": null,
      "outputs": []
    },
    {
      "cell_type": "markdown",
      "metadata": {
        "id": "slSentDTMsgq"
      },
      "source": [
        "In the next cell, you will write code to fine-tune the model that you loaded a few cells back on Office31 for 10 epochs. Note that the TensorBoardLogger is initiated once more here so that the secondary directory to store the logs is 'Office31' instead of 'Tiny ImageNet'."
      ]
    },
    {
      "cell_type": "markdown",
      "source": [
        "2 marks"
      ],
      "metadata": {
        "id": "dx3JfyVA6eEV"
      }
    },
    {
      "cell_type": "code",
      "metadata": {
        "id": "M7SRn0J44DG4"
      },
      "source": [
        "# Initialize Tensorboard logger\n",
        "TensorBoard_Logger = TensorBoardLogger('/content/tb_logs', 'office31','leaky_relu_freeze')\n",
        "\n",
        "###################################\n",
        "####   Code required (start)   ####\n",
        "###################################\n",
        "# Define the trainer\n",
        "# Train the model on Office-31 for 10 epochs.\n",
        "\n",
        "# expect a per epoch time taken to be around 20 seconds (on Colab using GPU backend)\n",
        "\n",
        "###################################\n",
        "####    Code required (end)    ####\n",
        "###################################"
      ],
      "execution_count": null,
      "outputs": []
    },
    {
      "cell_type": "markdown",
      "source": [
        "2 marks"
      ],
      "metadata": {
        "id": "YukY6KuY6flW"
      }
    },
    {
      "cell_type": "code",
      "metadata": {
        "id": "MdCRyl9CIu_p"
      },
      "source": [
        "###################################\n",
        "####   Code required (start)   ####\n",
        "###################################\n",
        "# Test the fine-tuned model on validation and test set and print the values obtained\n",
        "\n",
        "###################################\n",
        "####    Code required (end)    ####\n",
        "###################################"
      ],
      "execution_count": null,
      "outputs": []
    },
    {
      "cell_type": "code",
      "metadata": {
        "id": "ZRfF8jj3UKRN"
      },
      "source": [
        "# Show tensorboard plots\n",
        "%reload_ext tensorboard\n",
        "%tensorboard --logdir /content/tb_logs/"
      ],
      "execution_count": null,
      "outputs": []
    }
  ]
}